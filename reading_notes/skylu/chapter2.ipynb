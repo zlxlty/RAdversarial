{
 "cells": [
  {
   "cell_type": "code",
   "execution_count": 4,
   "metadata": {},
   "outputs": [],
   "source": [
    "from torchvision import datasets, transforms\n",
    "from torch.utils.data import DataLoader\n",
    "\n",
    "mnist_train = datasets.MNIST(\"./data\", train=True, download=True, transform=transforms.ToTensor())\n",
    "mnist_test = datasets.MNIST(\"./data\", train=False, download=True, transform=transforms.ToTensor())\n",
    "\n",
    "train_idx = mnist_train.targets <= 1\n",
    "mnist_train.data = mnist_train.data[train_idx]\n",
    "mnist_train.targets = mnist_train.targets[train_idx]\n",
    "\n",
    "test_idx = mnist_test.targets <= 1\n",
    "mnist_test.data = mnist_test.data[test_idx]\n",
    "mnist_test.targets = mnist_test.targets[test_idx]\n",
    "\n",
    "train_loader = DataLoader(mnist_train, batch_size = 100, shuffle=True)\n",
    "test_loader = DataLoader(mnist_test, batch_size = 100, shuffle=False)"
   ]
  },
  {
   "cell_type": "code",
   "execution_count": 5,
   "metadata": {},
   "outputs": [],
   "source": [
    "import torch\n",
    "import torch.nn as nn\n",
    "import torch.optim as optim\n",
    "\n",
    "# do a single pass over the data\n",
    "def epoch(loader, model, opt=None):\n",
    "    total_loss, total_err = 0.,0.\n",
    "    for X,y in loader:\n",
    "        yp = model(X.view(X.shape[0], -1))[:,0]\n",
    "        loss = nn.BCEWithLogitsLoss()(yp, y.float())\n",
    "        if opt:\n",
    "            opt.zero_grad()\n",
    "            loss.backward()\n",
    "            opt.step()\n",
    "        \n",
    "        total_err += ((yp > 0) * (y==0) + (yp < 0) * (y==1)).sum().item()\n",
    "        total_loss += loss.item() * X.shape[0]\n",
    "    return total_err / len(loader.dataset), total_loss / len(loader.dataset)"
   ]
  },
  {
   "cell_type": "code",
   "execution_count": 6,
   "metadata": {},
   "outputs": [
    {
     "name": "stdout",
     "output_type": "stream",
     "text": [
      "Train Err\tTrain Loss\tTest Err\tTest Loss\n",
      "0.006948\t0.015113\t0.000946\t0.003284\n",
      "0.001500\t0.005403\t0.000473\t0.002506\n",
      "0.001263\t0.004545\t0.000473\t0.002291\n",
      "0.001026\t0.003868\t0.000946\t0.002227\n",
      "0.000869\t0.003597\t0.000946\t0.002119\n",
      "0.000869\t0.003285\t0.000473\t0.002029\n",
      "0.000790\t0.003051\t0.000946\t0.001953\n",
      "0.000869\t0.002876\t0.000473\t0.001975\n",
      "0.000790\t0.002675\t0.000946\t0.001926\n",
      "0.000790\t0.002557\t0.000946\t0.001874\n"
     ]
    }
   ],
   "source": [
    "model = nn.Linear(784, 1)\n",
    "opt = optim.SGD(model.parameters(), lr=1.)\n",
    "print(\"Train Err\", \"Train Loss\", \"Test Err\", \"Test Loss\", sep=\"\\t\")\n",
    "for i in range(10):\n",
    "    train_err, train_loss = epoch(train_loader, model, opt)\n",
    "    test_err, test_loss = epoch(test_loader, model)\n",
    "    print(*(\"{:.6f}\".format(i) for i in (train_err, train_loss, test_err, test_loss)), sep=\"\\t\")"
   ]
  },
  {
   "cell_type": "code",
   "execution_count": 13,
   "metadata": {},
   "outputs": [
    {
     "data": {
      "text/plain": [
       "Text(0.5, 1.0, 'True Label: 1')"
      ]
     },
     "execution_count": 13,
     "metadata": {},
     "output_type": "execute_result"
    },
    {
     "data": {
      "image/png": "[encoded data removed]",
      "text/plain": [
       "<Figure size 640x480 with 1 Axes>"
      ]
     },
     "metadata": {},
     "output_type": "display_data"
    }
   ],
   "source": [
    "import matplotlib.pyplot as plt\n",
    "X_test = (test_loader.dataset.data.float()/255).view(len(test_loader.dataset),-1)\n",
    "y_test = test_loader.dataset.targets\n",
    "yp = model(X_test)[:,0]\n",
    "idx = (yp > 0) * (y_test == 0) + (yp < 0) * (y_test == 1)\n",
    "plt.imshow(1-X_test[idx][0].view(28,28).numpy(), cmap=\"gray\")\n",
    "plt.title(\"True Label: {}\".format(y_test[idx][0].item()))"
   ]
  },
  {
   "cell_type": "code",
   "execution_count": null,
   "metadata": {},
   "outputs": [],
   "source": []
  }
 ],
 "metadata": {
  "kernelspec": {
   "display_name": "venv",
   "language": "python",
   "name": "python3"
  },
  "language_info": {
   "codemirror_mode": {
    "name": "ipython",
    "version": 3
   },
   "file_extension": ".py",
   "mimetype": "text/x-python",
   "name": "python",
   "nbconvert_exporter": "python",
   "pygments_lexer": "ipython3",
   "version": "3.11.4"
  }
 },
 "nbformat": 4,
 "nbformat_minor": 2
}
